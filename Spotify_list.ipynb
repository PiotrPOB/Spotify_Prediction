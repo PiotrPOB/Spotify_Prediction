{
 "cells": [
  {
   "cell_type": "markdown",
   "metadata": {},
   "source": [
    "<p></p><p><b>Step 1</b></p>\n",
    "Instal spotipy and pandas libraries"
   ]
  },
  {
   "cell_type": "code",
   "execution_count": 1,
   "metadata": {},
   "outputs": [],
   "source": [
    "#pip install spotipy\n",
    "#pip install pandas\n",
    "import spotipy\n",
    "import pandas as pd\n",
    "from spotipy.oauth2 import SpotifyClientCredentials"
   ]
  },
  {
   "cell_type": "markdown",
   "metadata": {},
   "source": [
    "<p></p><p><b>Step 2</b></p>\n",
    "Insert your client id and client secret id from Spotify"
   ]
  },
  {
   "cell_type": "code",
   "execution_count": 2,
   "metadata": {},
   "outputs": [],
   "source": [
    "client_id = 'afad450929e74b6c990772e7c9a1ba36'"
   ]
  },
  {
   "cell_type": "code",
   "execution_count": 3,
   "metadata": {},
   "outputs": [],
   "source": [
    "client_secret = '8fe35289c03d49b3889a4895cb6ed1e0' "
   ]
  },
  {
   "cell_type": "markdown",
   "metadata": {},
   "source": [
    "<p></p><p><b>Step 3</b></p>\n",
    "Create connection with Spotify"
   ]
  },
  {
   "cell_type": "code",
   "execution_count": 5,
   "metadata": {},
   "outputs": [],
   "source": [
    "client_credentials_manager = SpotifyClientCredentials(client_id, client_secret)\n",
    "sp = spotipy.Spotify(client_credentials_manager=client_credentials_manager)"
   ]
  },
  {
   "cell_type": "markdown",
   "metadata": {},
   "source": [
    "<p></p><p><b>Step 4</b></p>\n",
    "Create function to generate Spotify lists"
   ]
  },
  {
   "cell_type": "code",
   "execution_count": 6,
   "metadata": {},
   "outputs": [],
   "source": [
    "def spotify_list_generator(path_filename, playlist_id):\n",
    "    results = sp.playlist(playlist_id)\n",
    "    ids = []\n",
    "    for item in results['tracks']['items']:\n",
    "            track = item['track']['id']\n",
    "            ids.append(track)\n",
    "            \n",
    "    song_meta = {'id':[],'album':[], 'name':[], \n",
    "            'artist':[],'explicit':[],'popularity':[]}\n",
    "\n",
    "    for song_id in ids:\n",
    "        # get song's meta data\n",
    "        meta = sp.track(song_id)\n",
    "        \n",
    "        # song id\n",
    "        song_meta['id'].append(song_id)\n",
    "\n",
    "        # album name\n",
    "        album = meta['album']['name']\n",
    "        song_meta['album'] += [album]\n",
    "\n",
    "        # song name\n",
    "        song = meta['name']\n",
    "        song_meta['name'] += [song]\n",
    "        \n",
    "        # artists name\n",
    "        s = ', '\n",
    "        artist = s.join([singer_name['name'] for singer_name in meta['artists']])\n",
    "        song_meta['artist'] += [artist]\n",
    "        \n",
    "        # explicit: lyrics could be considered offensive or unsuitable for children\n",
    "        explicit = meta['explicit']\n",
    "        song_meta['explicit'].append(explicit)\n",
    "        \n",
    "        # song popularity\n",
    "        popularity = meta['popularity']\n",
    "        song_meta['popularity'].append(popularity)\n",
    "\n",
    "    song_meta_df = pd.DataFrame.from_dict(song_meta)\n",
    "\n",
    "    # check the song feature\n",
    "    features = sp.audio_features(song_meta['id'])\n",
    "    \n",
    "    # change dictionary to dataframe\n",
    "    features_df = pd.DataFrame.from_dict(features)\n",
    "\n",
    "    # convert milliseconds to minutes\n",
    "    # duration_ms: The duration of the track in milliseconds.\n",
    "    # 1 minute = 60 seconds = 60 × 1000 milliseconds = 60,000 ms\n",
    "    features_df['duration_ms'] = features_df['duration_ms']/60000\n",
    "\n",
    "    # combine two dataframes\n",
    "    final_df = song_meta_df.merge(features_df)\n",
    "    music_feature = features_df[['danceability','energy', 'loudness', 'speechiness','acousticness', 'instrumentalness', 'liveness', 'valence', 'tempo', 'duration_ms']]\n",
    "    x = final_df.copy()\n",
    "\n",
    "    # IndexSong = ['id', 'album', 'name', 'artist', 'explicit', 'popularity',\n",
    "    #     'danceability', 'energy', 'key', 'loudness', 'mode', 'speechiness',\n",
    "    #     'acousticness', 'instrumentalness', 'liveness', 'valence', 'tempo',\n",
    "    #     'type', 'uri', 'track_href', 'analysis_url', 'duration_ms',\n",
    "    #     'time_signature']\n",
    "\n",
    "    # saving data to file\n",
    "    data_music = pd.DataFrame(x)\n",
    "    try:\n",
    "        f =  open(path_filename)\n",
    "    except IOError:\n",
    "        data_music.to_csv(path_filename, mode = \"w\")\n",
    "    else:\n",
    "        data_music.to_csv(path_filename, mode = \"a\", header = False)\n",
    "    \n",
    "    # cleaing data\n",
    "    features = []\n",
    "    features_df = []\n",
    "    song = []\n",
    "    song_id = []\n",
    "    song_meta = []\n",
    "    song_meta_df = []\n",
    "    data_music = []\n",
    "    popularity = []"
   ]
  },
  {
   "cell_type": "markdown",
   "metadata": {},
   "source": [
    "<p></p><p><b>Step 5</b></p>\n",
    "Createing list of playlists in Spotify account"
   ]
  },
  {
   "cell_type": "code",
   "execution_count": 7,
   "metadata": {},
   "outputs": [],
   "source": [
    "music_list_Spotify =[\n",
    "    \"https://open.spotify.com/playlist/7JGqlofTJlGE8UrVMsXbZ0?si=d9646e25a11b4b68\",\n",
    "    \"https://open.spotify.com/playlist/2j6R5zS81zjyPfwNdGWcm0?si=55e1131c09434b94\",\n",
    "    \"https://open.spotify.com/playlist/1wyWBzEyOIiah9K5mkLjqK?si=0b1f7e77dce84a4c\",\n",
    "    \"https://open.spotify.com/playlist/4fIL4dZQTg1DgOnCMfqmrr?si=c29ccba393934032\",\n",
    "    \"https://open.spotify.com/playlist/0wEkwv4ES9BqAKijq2jihu?si=788be65c0e2e420b\",\n",
    "    \"https://open.spotify.com/playlist/3LzUKBortAfPrYnjGLKLK8?si=6c9afd84269147b6\",\n",
    "    \"https://open.spotify.com/playlist/4cNBmPDgutAUwuZ7GMtRQo?si=c751b64d5b7e4be7\",\n",
    "    \"https://open.spotify.com/playlist/5CBnz4P1a5hL0BGTe0Rx4q?si=ec832f3ad53d4b94\",\n",
    "    \"https://open.spotify.com/playlist/5z3SsqJcdCHRaqhFCpzBWD?si=a76ec8ff280b4000\",\n",
    "    \"https://open.spotify.com/playlist/6uHUSFuElpI5v408bngyL4?si=08e07e45fef2425b\",\n",
    "    \n",
    "    \"https://open.spotify.com/playlist/7pCMHkuBAVJNTqNWIX8ij3?si=04f5ab036a1042a0\",\n",
    "    \"https://open.spotify.com/playlist/1ttrBnXujiz69b8qn6EhHB?si=fb34994f56804ca4\",\n",
    "    \"https://open.spotify.com/playlist/1Gbc7mal4KYtL8r407pl6e?si=909fa8d46b634ff7\",\n",
    "    \"https://open.spotify.com/playlist/7I9DEU4Ujt5QlFSFXNYumf?si=15c078b0d6624421\",\n",
    "    \"https://open.spotify.com/playlist/6cXC7feaOLNxa0pcVDnsJk?si=2b6b34f744794edd\",\n",
    "    \"https://open.spotify.com/playlist/1Sgw0fq9DJ3Msskx9UMSQR?si=9470b37881f24ee9\",\n",
    "    \"https://open.spotify.com/playlist/3NCs8KzDscCPmrPfCTRTaI?si=18140d999ef64d3a\",\n",
    "    \"https://open.spotify.com/playlist/2JsorHaHt2AvYrZE0OZTVa?si=3d7765eaa15a46f5\",\n",
    "    \"https://open.spotify.com/playlist/0AeKEd3o8isFrnx51coVBt?si=9d36436145e04b97\",\n",
    "    \"https://open.spotify.com/playlist/4gCLbHRhWkfnysimgvQt2I?si=d1c1ea02931f4c48\",\n",
    "    \n",
    "    \"https://open.spotify.com/playlist/3JJHwI8vJHnsD4pF9yiXuu?si=33d43143006e4297\",\n",
    "    \"https://open.spotify.com/playlist/4O3VLOHl79re45b31kY9ZU?si=b47a1037e7974e7b\",\n",
    "    \"https://open.spotify.com/playlist/37i9dQZF1DX4WELsJtFZjZ?si=962bf823005f4580\",\n",
    "    \"https://open.spotify.com/playlist/37i9dQZF1DX0jc7XXxzhOG?si=565c593f126b45c0\",\n",
    "    \"https://open.spotify.com/playlist/37i9dQZF1DWSWNiyXQAvbl?si=c00aff03515140dc\",\n",
    "    \"https://open.spotify.com/playlist/37i9dQZF1DWTAMSh8IEIUc?si=c2cb7a6e35e14cc4\",\n",
    "    # \"https://open.spotify.com/playlist/37i9dQZF1DX4pq3ejIlJu2?si=144c3d2d422f43f8\",\n",
    "    \"https://open.spotify.com/playlist/37i9dQZF1DX6TIU4D13lOY?si=d048a9ccbdcc4747\",\n",
    "    \"https://open.spotify.com/playlist/37i9dQZF1DWUv0cTKdT8jJ?si=2d2e199b092d49b3\",\n",
    "    \"https://open.spotify.com/playlist/3Y3NX4qhBo5rxvU60MgUoh?si=e816f6a8c4df4c83\",\n",
    "    \n",
    "    \"https://open.spotify.com/playlist/2MSE9BQC2U1i3U4NNltxOw?si=64466f39cb684c3c\",\n",
    "    \"https://open.spotify.com/playlist/37i9dQZF1E38ylbYJGEAkm?si=cc0f68506afc4116\",\n",
    "    \"https://open.spotify.com/playlist/37i9dQZF1E383lq5xYKIth?si=8242e7d03daf4547\",\n",
    "    \"https://open.spotify.com/playlist/37i9dQZEVXcRmmxyibpwJm?si=cd6f541813084f7e\",\n",
    "    \"https://open.spotify.com/playlist/37i9dQZF1DXbTxeAdrVG2l?si=1df2e13c9cd54361\",\n",
    "    \"https://open.spotify.com/playlist/37i9dQZF1DWWGFQLoP9qlv?si=23bf49add10248c0\",\n",
    "    \"https://open.spotify.com/playlist/37i9dQZF1DWXJnyndhASBe?si=11a42e297bc04501\",\n",
    "    \"https://open.spotify.com/playlist/37i9dQZF1DWV8xrpik0esU?si=632911154de64647\",\n",
    "    \"https://open.spotify.com/playlist/37i9dQZF1DWZFicI79sEj9?si=6ec64bd0681a4111\",\n",
    "    \"https://open.spotify.com/playlist/37i9dQZF1DX8a1tdzq5tbM?si=b69baeca2bd74ec9\",\n",
    "    \n",
    "    \"https://open.spotify.com/playlist/37i9dQZF1DX0ipbvZRQb5v?si=6632662d48364264\",\n",
    "    \"https://open.spotify.com/playlist/37i9dQZF1DX78DRzijRqqX?si=713472fba6204b25\",\n",
    "    \"https://open.spotify.com/playlist/37i9dQZF1DX504r1DvyvxG?si=dea3171748d54e11\",\n",
    "    \"https://open.spotify.com/playlist/37i9dQZF1DXbcgQ8d7s0A0?si=6b5300e63493440d\",\n",
    "    \"https://open.spotify.com/playlist/4MRN4E2KVBBWZHSf3FKhGI?si=2b830cbec65c4b46\",\n",
    "    \"https://open.spotify.com/playlist/2tigVI3RYawpkcu9AcoBmG?si=5b05404ff5a34b27\"\n",
    "    ]"
   ]
  },
  {
   "cell_type": "markdown",
   "metadata": {},
   "source": [
    "<p></p><p><b>Step 6</b></p>\n",
    "Generating one dataset out of 46 playlists"
   ]
  },
  {
   "cell_type": "code",
   "execution_count": 10,
   "metadata": {},
   "outputs": [
    {
     "name": "stdout",
     "output_type": "stream",
     "text": [
      "Number of lists: 46\n"
     ]
    },
    {
     "ename": "KeyboardInterrupt",
     "evalue": "",
     "output_type": "error",
     "traceback": [
      "\u001b[1;31m---------------------------------------------------------------------------\u001b[0m",
      "\u001b[1;31mKeyboardInterrupt\u001b[0m                         Traceback (most recent call last)",
      "Cell \u001b[1;32mIn[10], line 5\u001b[0m\n\u001b[0;32m      3\u001b[0m j \u001b[39m=\u001b[39m j \u001b[39m+\u001b[39m \u001b[39m1\u001b[39m\n\u001b[0;32m      4\u001b[0m \u001b[39mprint\u001b[39m(\u001b[39m'\u001b[39m\u001b[39mNumber of lists:\u001b[39m\u001b[39m'\u001b[39m, \u001b[39mlen\u001b[39m(music_list_Spotify))\n\u001b[1;32m----> 5\u001b[0m spotify_list_generator(\u001b[39m\"\u001b[39;49m\u001b[39mAllSpotifySongs.csv\u001b[39;49m\u001b[39m\"\u001b[39;49m, i)\n\u001b[0;32m      6\u001b[0m \u001b[39mprint\u001b[39m(i, \u001b[39m'\u001b[39m\u001b[39m< - Done nr\u001b[39m\u001b[39m'\u001b[39m, j)\n",
      "Cell \u001b[1;32mIn[6], line 13\u001b[0m, in \u001b[0;36mspotify_list_generator\u001b[1;34m(path_filename, playlist_id)\u001b[0m\n\u001b[0;32m      8\u001b[0m song_meta \u001b[39m=\u001b[39m {\u001b[39m'\u001b[39m\u001b[39mid\u001b[39m\u001b[39m'\u001b[39m:[],\u001b[39m'\u001b[39m\u001b[39malbum\u001b[39m\u001b[39m'\u001b[39m:[], \u001b[39m'\u001b[39m\u001b[39mname\u001b[39m\u001b[39m'\u001b[39m:[], \n\u001b[0;32m      9\u001b[0m         \u001b[39m'\u001b[39m\u001b[39martist\u001b[39m\u001b[39m'\u001b[39m:[],\u001b[39m'\u001b[39m\u001b[39mexplicit\u001b[39m\u001b[39m'\u001b[39m:[],\u001b[39m'\u001b[39m\u001b[39mpopularity\u001b[39m\u001b[39m'\u001b[39m:[]}\n\u001b[0;32m     11\u001b[0m \u001b[39mfor\u001b[39;00m song_id \u001b[39min\u001b[39;00m ids:\n\u001b[0;32m     12\u001b[0m     \u001b[39m# get song's meta data\u001b[39;00m\n\u001b[1;32m---> 13\u001b[0m     meta \u001b[39m=\u001b[39m sp\u001b[39m.\u001b[39;49mtrack(song_id)\n\u001b[0;32m     15\u001b[0m     \u001b[39m# song id\u001b[39;00m\n\u001b[0;32m     16\u001b[0m     song_meta[\u001b[39m'\u001b[39m\u001b[39mid\u001b[39m\u001b[39m'\u001b[39m]\u001b[39m.\u001b[39mappend(song_id)\n",
      "File \u001b[1;32mc:\\Users\\Piotr\\AppData\\Local\\Programs\\Python\\Python311\\Lib\\site-packages\\spotipy\\client.py:371\u001b[0m, in \u001b[0;36mSpotify.track\u001b[1;34m(self, track_id, market)\u001b[0m\n\u001b[0;32m    363\u001b[0m \u001b[39m\u001b[39m\u001b[39m\"\"\" returns a single track given the track's ID, URI or URL\u001b[39;00m\n\u001b[0;32m    364\u001b[0m \n\u001b[0;32m    365\u001b[0m \u001b[39m    Parameters:\u001b[39;00m\n\u001b[0;32m    366\u001b[0m \u001b[39m        - track_id - a spotify URI, URL or ID\u001b[39;00m\n\u001b[0;32m    367\u001b[0m \u001b[39m        - market - an ISO 3166-1 alpha-2 country code.\u001b[39;00m\n\u001b[0;32m    368\u001b[0m \u001b[39m\"\"\"\u001b[39;00m\n\u001b[0;32m    370\u001b[0m trid \u001b[39m=\u001b[39m \u001b[39mself\u001b[39m\u001b[39m.\u001b[39m_get_id(\u001b[39m\"\u001b[39m\u001b[39mtrack\u001b[39m\u001b[39m\"\u001b[39m, track_id)\n\u001b[1;32m--> 371\u001b[0m \u001b[39mreturn\u001b[39;00m \u001b[39mself\u001b[39;49m\u001b[39m.\u001b[39;49m_get(\u001b[39m\"\u001b[39;49m\u001b[39mtracks/\u001b[39;49m\u001b[39m\"\u001b[39;49m \u001b[39m+\u001b[39;49m trid, market\u001b[39m=\u001b[39;49mmarket)\n",
      "File \u001b[1;32mc:\\Users\\Piotr\\AppData\\Local\\Programs\\Python\\Python311\\Lib\\site-packages\\spotipy\\client.py:323\u001b[0m, in \u001b[0;36mSpotify._get\u001b[1;34m(self, url, args, payload, **kwargs)\u001b[0m\n\u001b[0;32m    320\u001b[0m \u001b[39mif\u001b[39;00m args:\n\u001b[0;32m    321\u001b[0m     kwargs\u001b[39m.\u001b[39mupdate(args)\n\u001b[1;32m--> 323\u001b[0m \u001b[39mreturn\u001b[39;00m \u001b[39mself\u001b[39;49m\u001b[39m.\u001b[39;49m_internal_call(\u001b[39m\"\u001b[39;49m\u001b[39mGET\u001b[39;49m\u001b[39m\"\u001b[39;49m, url, payload, kwargs)\n",
      "File \u001b[1;32mc:\\Users\\Piotr\\AppData\\Local\\Programs\\Python\\Python311\\Lib\\site-packages\\spotipy\\client.py:266\u001b[0m, in \u001b[0;36mSpotify._internal_call\u001b[1;34m(self, method, url, payload, params)\u001b[0m\n\u001b[0;32m    262\u001b[0m logger\u001b[39m.\u001b[39mdebug(\u001b[39m'\u001b[39m\u001b[39mSending \u001b[39m\u001b[39m%s\u001b[39;00m\u001b[39m to \u001b[39m\u001b[39m%s\u001b[39;00m\u001b[39m with Params: \u001b[39m\u001b[39m%s\u001b[39;00m\u001b[39m Headers: \u001b[39m\u001b[39m%s\u001b[39;00m\u001b[39m and Body: \u001b[39m\u001b[39m%r\u001b[39;00m\u001b[39m \u001b[39m\u001b[39m'\u001b[39m,\n\u001b[0;32m    263\u001b[0m              method, url, args\u001b[39m.\u001b[39mget(\u001b[39m\"\u001b[39m\u001b[39mparams\u001b[39m\u001b[39m\"\u001b[39m), headers, args\u001b[39m.\u001b[39mget(\u001b[39m'\u001b[39m\u001b[39mdata\u001b[39m\u001b[39m'\u001b[39m))\n\u001b[0;32m    265\u001b[0m \u001b[39mtry\u001b[39;00m:\n\u001b[1;32m--> 266\u001b[0m     response \u001b[39m=\u001b[39m \u001b[39mself\u001b[39;49m\u001b[39m.\u001b[39;49m_session\u001b[39m.\u001b[39;49mrequest(\n\u001b[0;32m    267\u001b[0m         method, url, headers\u001b[39m=\u001b[39;49mheaders, proxies\u001b[39m=\u001b[39;49m\u001b[39mself\u001b[39;49m\u001b[39m.\u001b[39;49mproxies,\n\u001b[0;32m    268\u001b[0m         timeout\u001b[39m=\u001b[39;49m\u001b[39mself\u001b[39;49m\u001b[39m.\u001b[39;49mrequests_timeout, \u001b[39m*\u001b[39;49m\u001b[39m*\u001b[39;49margs\n\u001b[0;32m    269\u001b[0m     )\n\u001b[0;32m    271\u001b[0m     response\u001b[39m.\u001b[39mraise_for_status()\n\u001b[0;32m    272\u001b[0m     results \u001b[39m=\u001b[39m response\u001b[39m.\u001b[39mjson()\n",
      "File \u001b[1;32mc:\\Users\\Piotr\\AppData\\Local\\Programs\\Python\\Python311\\Lib\\site-packages\\requests\\sessions.py:587\u001b[0m, in \u001b[0;36mSession.request\u001b[1;34m(self, method, url, params, data, headers, cookies, files, auth, timeout, allow_redirects, proxies, hooks, stream, verify, cert, json)\u001b[0m\n\u001b[0;32m    582\u001b[0m send_kwargs \u001b[39m=\u001b[39m {\n\u001b[0;32m    583\u001b[0m     \u001b[39m\"\u001b[39m\u001b[39mtimeout\u001b[39m\u001b[39m\"\u001b[39m: timeout,\n\u001b[0;32m    584\u001b[0m     \u001b[39m\"\u001b[39m\u001b[39mallow_redirects\u001b[39m\u001b[39m\"\u001b[39m: allow_redirects,\n\u001b[0;32m    585\u001b[0m }\n\u001b[0;32m    586\u001b[0m send_kwargs\u001b[39m.\u001b[39mupdate(settings)\n\u001b[1;32m--> 587\u001b[0m resp \u001b[39m=\u001b[39m \u001b[39mself\u001b[39;49m\u001b[39m.\u001b[39;49msend(prep, \u001b[39m*\u001b[39;49m\u001b[39m*\u001b[39;49msend_kwargs)\n\u001b[0;32m    589\u001b[0m \u001b[39mreturn\u001b[39;00m resp\n",
      "File \u001b[1;32mc:\\Users\\Piotr\\AppData\\Local\\Programs\\Python\\Python311\\Lib\\site-packages\\requests\\sessions.py:701\u001b[0m, in \u001b[0;36mSession.send\u001b[1;34m(self, request, **kwargs)\u001b[0m\n\u001b[0;32m    698\u001b[0m start \u001b[39m=\u001b[39m preferred_clock()\n\u001b[0;32m    700\u001b[0m \u001b[39m# Send the request\u001b[39;00m\n\u001b[1;32m--> 701\u001b[0m r \u001b[39m=\u001b[39m adapter\u001b[39m.\u001b[39;49msend(request, \u001b[39m*\u001b[39;49m\u001b[39m*\u001b[39;49mkwargs)\n\u001b[0;32m    703\u001b[0m \u001b[39m# Total elapsed time of the request (approximately)\u001b[39;00m\n\u001b[0;32m    704\u001b[0m elapsed \u001b[39m=\u001b[39m preferred_clock() \u001b[39m-\u001b[39m start\n",
      "File \u001b[1;32mc:\\Users\\Piotr\\AppData\\Local\\Programs\\Python\\Python311\\Lib\\site-packages\\requests\\adapters.py:489\u001b[0m, in \u001b[0;36mHTTPAdapter.send\u001b[1;34m(self, request, stream, timeout, verify, cert, proxies)\u001b[0m\n\u001b[0;32m    487\u001b[0m \u001b[39mtry\u001b[39;00m:\n\u001b[0;32m    488\u001b[0m     \u001b[39mif\u001b[39;00m \u001b[39mnot\u001b[39;00m chunked:\n\u001b[1;32m--> 489\u001b[0m         resp \u001b[39m=\u001b[39m conn\u001b[39m.\u001b[39;49murlopen(\n\u001b[0;32m    490\u001b[0m             method\u001b[39m=\u001b[39;49mrequest\u001b[39m.\u001b[39;49mmethod,\n\u001b[0;32m    491\u001b[0m             url\u001b[39m=\u001b[39;49murl,\n\u001b[0;32m    492\u001b[0m             body\u001b[39m=\u001b[39;49mrequest\u001b[39m.\u001b[39;49mbody,\n\u001b[0;32m    493\u001b[0m             headers\u001b[39m=\u001b[39;49mrequest\u001b[39m.\u001b[39;49mheaders,\n\u001b[0;32m    494\u001b[0m             redirect\u001b[39m=\u001b[39;49m\u001b[39mFalse\u001b[39;49;00m,\n\u001b[0;32m    495\u001b[0m             assert_same_host\u001b[39m=\u001b[39;49m\u001b[39mFalse\u001b[39;49;00m,\n\u001b[0;32m    496\u001b[0m             preload_content\u001b[39m=\u001b[39;49m\u001b[39mFalse\u001b[39;49;00m,\n\u001b[0;32m    497\u001b[0m             decode_content\u001b[39m=\u001b[39;49m\u001b[39mFalse\u001b[39;49;00m,\n\u001b[0;32m    498\u001b[0m             retries\u001b[39m=\u001b[39;49m\u001b[39mself\u001b[39;49m\u001b[39m.\u001b[39;49mmax_retries,\n\u001b[0;32m    499\u001b[0m             timeout\u001b[39m=\u001b[39;49mtimeout,\n\u001b[0;32m    500\u001b[0m         )\n\u001b[0;32m    502\u001b[0m     \u001b[39m# Send the request.\u001b[39;00m\n\u001b[0;32m    503\u001b[0m     \u001b[39melse\u001b[39;00m:\n\u001b[0;32m    504\u001b[0m         \u001b[39mif\u001b[39;00m \u001b[39mhasattr\u001b[39m(conn, \u001b[39m\"\u001b[39m\u001b[39mproxy_pool\u001b[39m\u001b[39m\"\u001b[39m):\n",
      "File \u001b[1;32mc:\\Users\\Piotr\\AppData\\Local\\Programs\\Python\\Python311\\Lib\\site-packages\\urllib3\\connectionpool.py:703\u001b[0m, in \u001b[0;36mHTTPConnectionPool.urlopen\u001b[1;34m(self, method, url, body, headers, retries, redirect, assert_same_host, timeout, pool_timeout, release_conn, chunked, body_pos, **response_kw)\u001b[0m\n\u001b[0;32m    700\u001b[0m     \u001b[39mself\u001b[39m\u001b[39m.\u001b[39m_prepare_proxy(conn)\n\u001b[0;32m    702\u001b[0m \u001b[39m# Make the request on the httplib connection object.\u001b[39;00m\n\u001b[1;32m--> 703\u001b[0m httplib_response \u001b[39m=\u001b[39m \u001b[39mself\u001b[39;49m\u001b[39m.\u001b[39;49m_make_request(\n\u001b[0;32m    704\u001b[0m     conn,\n\u001b[0;32m    705\u001b[0m     method,\n\u001b[0;32m    706\u001b[0m     url,\n\u001b[0;32m    707\u001b[0m     timeout\u001b[39m=\u001b[39;49mtimeout_obj,\n\u001b[0;32m    708\u001b[0m     body\u001b[39m=\u001b[39;49mbody,\n\u001b[0;32m    709\u001b[0m     headers\u001b[39m=\u001b[39;49mheaders,\n\u001b[0;32m    710\u001b[0m     chunked\u001b[39m=\u001b[39;49mchunked,\n\u001b[0;32m    711\u001b[0m )\n\u001b[0;32m    713\u001b[0m \u001b[39m# If we're going to release the connection in ``finally:``, then\u001b[39;00m\n\u001b[0;32m    714\u001b[0m \u001b[39m# the response doesn't need to know about the connection. Otherwise\u001b[39;00m\n\u001b[0;32m    715\u001b[0m \u001b[39m# it will also try to release it and we'll have a double-release\u001b[39;00m\n\u001b[0;32m    716\u001b[0m \u001b[39m# mess.\u001b[39;00m\n\u001b[0;32m    717\u001b[0m response_conn \u001b[39m=\u001b[39m conn \u001b[39mif\u001b[39;00m \u001b[39mnot\u001b[39;00m release_conn \u001b[39melse\u001b[39;00m \u001b[39mNone\u001b[39;00m\n",
      "File \u001b[1;32mc:\\Users\\Piotr\\AppData\\Local\\Programs\\Python\\Python311\\Lib\\site-packages\\urllib3\\connectionpool.py:449\u001b[0m, in \u001b[0;36mHTTPConnectionPool._make_request\u001b[1;34m(self, conn, method, url, timeout, chunked, **httplib_request_kw)\u001b[0m\n\u001b[0;32m    444\u001b[0m             httplib_response \u001b[39m=\u001b[39m conn\u001b[39m.\u001b[39mgetresponse()\n\u001b[0;32m    445\u001b[0m         \u001b[39mexcept\u001b[39;00m \u001b[39mBaseException\u001b[39;00m \u001b[39mas\u001b[39;00m e:\n\u001b[0;32m    446\u001b[0m             \u001b[39m# Remove the TypeError from the exception chain in\u001b[39;00m\n\u001b[0;32m    447\u001b[0m             \u001b[39m# Python 3 (including for exceptions like SystemExit).\u001b[39;00m\n\u001b[0;32m    448\u001b[0m             \u001b[39m# Otherwise it looks like a bug in the code.\u001b[39;00m\n\u001b[1;32m--> 449\u001b[0m             six\u001b[39m.\u001b[39;49mraise_from(e, \u001b[39mNone\u001b[39;49;00m)\n\u001b[0;32m    450\u001b[0m \u001b[39mexcept\u001b[39;00m (SocketTimeout, BaseSSLError, SocketError) \u001b[39mas\u001b[39;00m e:\n\u001b[0;32m    451\u001b[0m     \u001b[39mself\u001b[39m\u001b[39m.\u001b[39m_raise_timeout(err\u001b[39m=\u001b[39me, url\u001b[39m=\u001b[39murl, timeout_value\u001b[39m=\u001b[39mread_timeout)\n",
      "File \u001b[1;32m<string>:3\u001b[0m, in \u001b[0;36mraise_from\u001b[1;34m(value, from_value)\u001b[0m\n",
      "File \u001b[1;32mc:\\Users\\Piotr\\AppData\\Local\\Programs\\Python\\Python311\\Lib\\site-packages\\urllib3\\connectionpool.py:444\u001b[0m, in \u001b[0;36mHTTPConnectionPool._make_request\u001b[1;34m(self, conn, method, url, timeout, chunked, **httplib_request_kw)\u001b[0m\n\u001b[0;32m    441\u001b[0m \u001b[39mexcept\u001b[39;00m \u001b[39mTypeError\u001b[39;00m:\n\u001b[0;32m    442\u001b[0m     \u001b[39m# Python 3\u001b[39;00m\n\u001b[0;32m    443\u001b[0m     \u001b[39mtry\u001b[39;00m:\n\u001b[1;32m--> 444\u001b[0m         httplib_response \u001b[39m=\u001b[39m conn\u001b[39m.\u001b[39;49mgetresponse()\n\u001b[0;32m    445\u001b[0m     \u001b[39mexcept\u001b[39;00m \u001b[39mBaseException\u001b[39;00m \u001b[39mas\u001b[39;00m e:\n\u001b[0;32m    446\u001b[0m         \u001b[39m# Remove the TypeError from the exception chain in\u001b[39;00m\n\u001b[0;32m    447\u001b[0m         \u001b[39m# Python 3 (including for exceptions like SystemExit).\u001b[39;00m\n\u001b[0;32m    448\u001b[0m         \u001b[39m# Otherwise it looks like a bug in the code.\u001b[39;00m\n\u001b[0;32m    449\u001b[0m         six\u001b[39m.\u001b[39mraise_from(e, \u001b[39mNone\u001b[39;00m)\n",
      "File \u001b[1;32mc:\\Users\\Piotr\\AppData\\Local\\Programs\\Python\\Python311\\Lib\\http\\client.py:1375\u001b[0m, in \u001b[0;36mHTTPConnection.getresponse\u001b[1;34m(self)\u001b[0m\n\u001b[0;32m   1373\u001b[0m \u001b[39mtry\u001b[39;00m:\n\u001b[0;32m   1374\u001b[0m     \u001b[39mtry\u001b[39;00m:\n\u001b[1;32m-> 1375\u001b[0m         response\u001b[39m.\u001b[39;49mbegin()\n\u001b[0;32m   1376\u001b[0m     \u001b[39mexcept\u001b[39;00m \u001b[39mConnectionError\u001b[39;00m:\n\u001b[0;32m   1377\u001b[0m         \u001b[39mself\u001b[39m\u001b[39m.\u001b[39mclose()\n",
      "File \u001b[1;32mc:\\Users\\Piotr\\AppData\\Local\\Programs\\Python\\Python311\\Lib\\http\\client.py:318\u001b[0m, in \u001b[0;36mHTTPResponse.begin\u001b[1;34m(self)\u001b[0m\n\u001b[0;32m    316\u001b[0m \u001b[39m# read until we get a non-100 response\u001b[39;00m\n\u001b[0;32m    317\u001b[0m \u001b[39mwhile\u001b[39;00m \u001b[39mTrue\u001b[39;00m:\n\u001b[1;32m--> 318\u001b[0m     version, status, reason \u001b[39m=\u001b[39m \u001b[39mself\u001b[39;49m\u001b[39m.\u001b[39;49m_read_status()\n\u001b[0;32m    319\u001b[0m     \u001b[39mif\u001b[39;00m status \u001b[39m!=\u001b[39m CONTINUE:\n\u001b[0;32m    320\u001b[0m         \u001b[39mbreak\u001b[39;00m\n",
      "File \u001b[1;32mc:\\Users\\Piotr\\AppData\\Local\\Programs\\Python\\Python311\\Lib\\http\\client.py:279\u001b[0m, in \u001b[0;36mHTTPResponse._read_status\u001b[1;34m(self)\u001b[0m\n\u001b[0;32m    278\u001b[0m \u001b[39mdef\u001b[39;00m \u001b[39m_read_status\u001b[39m(\u001b[39mself\u001b[39m):\n\u001b[1;32m--> 279\u001b[0m     line \u001b[39m=\u001b[39m \u001b[39mstr\u001b[39m(\u001b[39mself\u001b[39m\u001b[39m.\u001b[39mfp\u001b[39m.\u001b[39mreadline(_MAXLINE \u001b[39m+\u001b[39m \u001b[39m1\u001b[39m), \u001b[39m\"\u001b[39m\u001b[39miso-8859-1\u001b[39m\u001b[39m\"\u001b[39m)\n\u001b[0;32m    280\u001b[0m     \u001b[39mif\u001b[39;00m \u001b[39mlen\u001b[39m(line) \u001b[39m>\u001b[39m _MAXLINE:\n\u001b[0;32m    281\u001b[0m         \u001b[39mraise\u001b[39;00m LineTooLong(\u001b[39m\"\u001b[39m\u001b[39mstatus line\u001b[39m\u001b[39m\"\u001b[39m)\n",
      "File \u001b[1;32mc:\\Users\\Piotr\\AppData\\Local\\Programs\\Python\\Python311\\Lib\\socket.py:706\u001b[0m, in \u001b[0;36mSocketIO.readinto\u001b[1;34m(self, b)\u001b[0m\n\u001b[0;32m    704\u001b[0m \u001b[39mwhile\u001b[39;00m \u001b[39mTrue\u001b[39;00m:\n\u001b[0;32m    705\u001b[0m     \u001b[39mtry\u001b[39;00m:\n\u001b[1;32m--> 706\u001b[0m         \u001b[39mreturn\u001b[39;00m \u001b[39mself\u001b[39;49m\u001b[39m.\u001b[39;49m_sock\u001b[39m.\u001b[39;49mrecv_into(b)\n\u001b[0;32m    707\u001b[0m     \u001b[39mexcept\u001b[39;00m timeout:\n\u001b[0;32m    708\u001b[0m         \u001b[39mself\u001b[39m\u001b[39m.\u001b[39m_timeout_occurred \u001b[39m=\u001b[39m \u001b[39mTrue\u001b[39;00m\n",
      "File \u001b[1;32mc:\\Users\\Piotr\\AppData\\Local\\Programs\\Python\\Python311\\Lib\\ssl.py:1278\u001b[0m, in \u001b[0;36mSSLSocket.recv_into\u001b[1;34m(self, buffer, nbytes, flags)\u001b[0m\n\u001b[0;32m   1274\u001b[0m     \u001b[39mif\u001b[39;00m flags \u001b[39m!=\u001b[39m \u001b[39m0\u001b[39m:\n\u001b[0;32m   1275\u001b[0m         \u001b[39mraise\u001b[39;00m \u001b[39mValueError\u001b[39;00m(\n\u001b[0;32m   1276\u001b[0m           \u001b[39m\"\u001b[39m\u001b[39mnon-zero flags not allowed in calls to recv_into() on \u001b[39m\u001b[39m%s\u001b[39;00m\u001b[39m\"\u001b[39m \u001b[39m%\u001b[39m\n\u001b[0;32m   1277\u001b[0m           \u001b[39mself\u001b[39m\u001b[39m.\u001b[39m\u001b[39m__class__\u001b[39m)\n\u001b[1;32m-> 1278\u001b[0m     \u001b[39mreturn\u001b[39;00m \u001b[39mself\u001b[39;49m\u001b[39m.\u001b[39;49mread(nbytes, buffer)\n\u001b[0;32m   1279\u001b[0m \u001b[39melse\u001b[39;00m:\n\u001b[0;32m   1280\u001b[0m     \u001b[39mreturn\u001b[39;00m \u001b[39msuper\u001b[39m()\u001b[39m.\u001b[39mrecv_into(buffer, nbytes, flags)\n",
      "File \u001b[1;32mc:\\Users\\Piotr\\AppData\\Local\\Programs\\Python\\Python311\\Lib\\ssl.py:1134\u001b[0m, in \u001b[0;36mSSLSocket.read\u001b[1;34m(self, len, buffer)\u001b[0m\n\u001b[0;32m   1132\u001b[0m \u001b[39mtry\u001b[39;00m:\n\u001b[0;32m   1133\u001b[0m     \u001b[39mif\u001b[39;00m buffer \u001b[39mis\u001b[39;00m \u001b[39mnot\u001b[39;00m \u001b[39mNone\u001b[39;00m:\n\u001b[1;32m-> 1134\u001b[0m         \u001b[39mreturn\u001b[39;00m \u001b[39mself\u001b[39;49m\u001b[39m.\u001b[39;49m_sslobj\u001b[39m.\u001b[39;49mread(\u001b[39mlen\u001b[39;49m, buffer)\n\u001b[0;32m   1135\u001b[0m     \u001b[39melse\u001b[39;00m:\n\u001b[0;32m   1136\u001b[0m         \u001b[39mreturn\u001b[39;00m \u001b[39mself\u001b[39m\u001b[39m.\u001b[39m_sslobj\u001b[39m.\u001b[39mread(\u001b[39mlen\u001b[39m)\n",
      "\u001b[1;31mKeyboardInterrupt\u001b[0m: "
     ]
    }
   ],
   "source": [
    "j = 0 \n",
    "print('Number of lists:', len(music_list_Spotify))\n",
    "for i in music_list_Spotify:\n",
    "    j = j + 1\n",
    "        spotify_list_generator(\"AllSpotifySongs.csv\", i)\n",
    "    print(i, '< - Done nr', j)\n",
    "print(\"All done!\")"
   ]
  },
  {
   "cell_type": "markdown",
   "metadata": {},
   "source": [
    "<p></p><p><b>Step 7</b></p>\n",
    "Generate Spotify liked music"
   ]
  },
  {
   "cell_type": "code",
   "execution_count": 19,
   "metadata": {},
   "outputs": [],
   "source": [
    "spotify_list_generator(\"RandomSpotifyList_Liked.csv\", \"https://open.spotify.com/playlist/7uVlrg50RdpptDVVXJc5WK?si=3f4bd3672d04448a\")"
   ]
  },
  {
   "cell_type": "markdown",
   "metadata": {},
   "source": [
    "<p></p><p><b>Step 8</b></p>\n",
    "Generate Spotify unliked music"
   ]
  },
  {
   "cell_type": "code",
   "execution_count": 20,
   "metadata": {},
   "outputs": [],
   "source": [
    "spotify_list_generator(\"RandomSpotifyList_Unliked.csv\", \"https://open.spotify.com/playlist/4CHHCyretx0AaOb5xMkmRq?si=42b36bd28b9344e8\")"
   ]
  },
  {
   "cell_type": "markdown",
   "metadata": {},
   "source": [
    "<p></p><p><b>Step 9</b></p>\n",
    "Run \"music_learning.ipynb\" file"
   ]
  }
 ],
 "metadata": {
  "kernelspec": {
   "display_name": "Python 3",
   "language": "python",
   "name": "python3"
  },
  "language_info": {
   "codemirror_mode": {
    "name": "ipython",
    "version": 3
   },
   "file_extension": ".py",
   "mimetype": "text/x-python",
   "name": "python",
   "nbconvert_exporter": "python",
   "pygments_lexer": "ipython3",
   "version": "3.11.3"
  }
 },
 "nbformat": 4,
 "nbformat_minor": 4
}
