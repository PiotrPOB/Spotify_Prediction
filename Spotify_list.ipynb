{
 "cells": [
  {
   "cell_type": "markdown",
   "metadata": {},
   "source": [
    "<p></p><p><b>Step 1</b></p>\n",
    "Instal spotipy and pandas libraries"
   ]
  },
  {
   "cell_type": "code",
   "execution_count": 1,
   "metadata": {},
   "outputs": [],
   "source": [
    "#pip install spotipy\n",
    "#pip install pandas\n",
    "import spotipy\n",
    "import pandas as pd\n",
    "from spotipy.oauth2 import SpotifyClientCredentials"
   ]
  },
  {
   "cell_type": "markdown",
   "metadata": {},
   "source": [
    "<p></p><p><b>Step 2</b></p>\n",
    "Insert your client id and client secret id from Spotify"
   ]
  },
  {
   "cell_type": "code",
   "execution_count": 2,
   "metadata": {},
   "outputs": [],
   "source": [
    "# client_id = 'afad450929e74b6c990772e7c9a1ba36'\n",
    "client_id = '437ca7c4572842079429e28fbfdb7685'\n"
   ]
  },
  {
   "cell_type": "code",
   "execution_count": 3,
   "metadata": {},
   "outputs": [],
   "source": [
    "# client_secret = '8fe35289c03d49b3889a4895cb6ed1e0' \n",
    "client_secret = '753837b2f58e44b2a2f01c2738d06d34' "
   ]
  },
  {
   "cell_type": "markdown",
   "metadata": {},
   "source": [
    "<p></p><p><b>Step 3</b></p>\n",
    "Create connection with Spotify"
   ]
  },
  {
   "cell_type": "code",
   "execution_count": 4,
   "metadata": {},
   "outputs": [],
   "source": [
    "client_credentials_manager = SpotifyClientCredentials(client_id, client_secret)\n",
    "sp = spotipy.Spotify(client_credentials_manager=client_credentials_manager)"
   ]
  },
  {
   "cell_type": "markdown",
   "metadata": {},
   "source": [
    "<p></p><p><b>Step 4</b></p>\n",
    "Create function to generate Spotify lists"
   ]
  },
  {
   "cell_type": "code",
   "execution_count": 5,
   "metadata": {},
   "outputs": [],
   "source": [
    "def spotify_list_generator(path_filename, playlist_id):\n",
    "    results = sp.playlist(playlist_id)\n",
    "    ids = []\n",
    "    for item in results['tracks']['items']:\n",
    "            track = item['track']['id']\n",
    "            ids.append(track)\n",
    "            \n",
    "    song_meta = {'id':[],'album':[], 'name':[], \n",
    "            'artist':[],'explicit':[],'popularity':[]}\n",
    "\n",
    "    for song_id in ids:\n",
    "        # get song's meta data\n",
    "        meta = sp.track(song_id)\n",
    "        \n",
    "        # song id\n",
    "        song_meta['id'].append(song_id)\n",
    "\n",
    "        # album name\n",
    "        album = meta['album']['name']\n",
    "        song_meta['album'] += [album]\n",
    "\n",
    "        # song name\n",
    "        song = meta['name']\n",
    "        song_meta['name'] += [song]\n",
    "        \n",
    "        # artists name\n",
    "        s = ', '\n",
    "        artist = s.join([singer_name['name'] for singer_name in meta['artists']])\n",
    "        song_meta['artist'] += [artist]\n",
    "        \n",
    "        # explicit: lyrics could be considered offensive or unsuitable for children\n",
    "        explicit = meta['explicit']\n",
    "        song_meta['explicit'].append(explicit)\n",
    "        \n",
    "        # song popularity\n",
    "        popularity = meta['popularity']\n",
    "        song_meta['popularity'].append(popularity)\n",
    "\n",
    "    song_meta_df = pd.DataFrame.from_dict(song_meta)\n",
    "\n",
    "    # check the song feature\n",
    "    features = sp.audio_features(song_meta['id'])\n",
    "    \n",
    "    # change dictionary to dataframe\n",
    "    features_df = pd.DataFrame.from_dict(features)\n",
    "\n",
    "    # convert milliseconds to minutes\n",
    "    # duration_ms: The duration of the track in milliseconds.\n",
    "    # 1 minute = 60 seconds = 60 × 1000 milliseconds = 60,000 ms\n",
    "    features_df['duration_ms'] = features_df['duration_ms']/60000\n",
    "\n",
    "    # combine two dataframes\n",
    "    final_df = song_meta_df.merge(features_df)\n",
    "    music_feature = features_df[['danceability','energy', 'loudness', 'speechiness','acousticness', 'instrumentalness', 'liveness', 'valence', 'tempo', 'duration_ms']]\n",
    "    x = final_df.copy()\n",
    "\n",
    "    # IndexSong = ['id', 'album', 'name', 'artist', 'explicit', 'popularity',\n",
    "    #     'danceability', 'energy', 'key', 'loudness', 'mode', 'speechiness',\n",
    "    #     'acousticness', 'instrumentalness', 'liveness', 'valence', 'tempo',\n",
    "    #     'type', 'uri', 'track_href', 'analysis_url', 'duration_ms',\n",
    "    #     'time_signature']\n",
    "\n",
    "    # saving data to file\n",
    "    data_music = pd.DataFrame(x)\n",
    "    try:\n",
    "        f =  open(path_filename)\n",
    "    except IOError:\n",
    "        data_music.to_csv(path_filename, mode = \"w\")\n",
    "    else:\n",
    "        data_music.to_csv(path_filename, mode = \"a\", header = False)\n",
    "    \n",
    "    # cleaing data\n",
    "    features = []\n",
    "    features_df = []\n",
    "    song = []\n",
    "    song_id = []\n",
    "    song_meta = []\n",
    "    song_meta_df = []\n",
    "    data_music = []\n",
    "    popularity = []"
   ]
  },
  {
   "cell_type": "markdown",
   "metadata": {},
   "source": [
    "<p></p><p><b>Step 5</b></p>\n",
    "Createing list of playlists in Spotify account"
   ]
  },
  {
   "cell_type": "code",
   "execution_count": 6,
   "metadata": {},
   "outputs": [],
   "source": [
    "music_list_Spotify =[\n",
    "    \"https://open.spotify.com/playlist/7JGqlofTJlGE8UrVMsXbZ0?si=d9646e25a11b4b68\",\n",
    "    \"https://open.spotify.com/playlist/2j6R5zS81zjyPfwNdGWcm0?si=55e1131c09434b94\",\n",
    "    \"https://open.spotify.com/playlist/1wyWBzEyOIiah9K5mkLjqK?si=0b1f7e77dce84a4c\",\n",
    "    \"https://open.spotify.com/playlist/4fIL4dZQTg1DgOnCMfqmrr?si=c29ccba393934032\",\n",
    "    \"https://open.spotify.com/playlist/0wEkwv4ES9BqAKijq2jihu?si=788be65c0e2e420b\",\n",
    "    \"https://open.spotify.com/playlist/3LzUKBortAfPrYnjGLKLK8?si=6c9afd84269147b6\",\n",
    "    \"https://open.spotify.com/playlist/4cNBmPDgutAUwuZ7GMtRQo?si=c751b64d5b7e4be7\",\n",
    "    \"https://open.spotify.com/playlist/5CBnz4P1a5hL0BGTe0Rx4q?si=ec832f3ad53d4b94\",\n",
    "    \"https://open.spotify.com/playlist/5z3SsqJcdCHRaqhFCpzBWD?si=a76ec8ff280b4000\",\n",
    "    \"https://open.spotify.com/playlist/6uHUSFuElpI5v408bngyL4?si=08e07e45fef2425b\",\n",
    "    \n",
    "    \"https://open.spotify.com/playlist/7pCMHkuBAVJNTqNWIX8ij3?si=04f5ab036a1042a0\",\n",
    "    \"https://open.spotify.com/playlist/1ttrBnXujiz69b8qn6EhHB?si=fb34994f56804ca4\",\n",
    "    \"https://open.spotify.com/playlist/1Gbc7mal4KYtL8r407pl6e?si=909fa8d46b634ff7\",\n",
    "    # \"https://open.spotify.com/playlist/7I9DEU4Ujt5QlFSFXNYumf?si=15c078b0d6624421\",\n",
    "    \"https://open.spotify.com/playlist/6cXC7feaOLNxa0pcVDnsJk?si=2b6b34f744794edd\",\n",
    "    \"https://open.spotify.com/playlist/1Sgw0fq9DJ3Msskx9UMSQR?si=9470b37881f24ee9\",\n",
    "    \"https://open.spotify.com/playlist/3NCs8KzDscCPmrPfCTRTaI?si=18140d999ef64d3a\",\n",
    "    \"https://open.spotify.com/playlist/2JsorHaHt2AvYrZE0OZTVa?si=3d7765eaa15a46f5\",\n",
    "    \"https://open.spotify.com/playlist/0AeKEd3o8isFrnx51coVBt?si=9d36436145e04b97\",\n",
    "    \"https://open.spotify.com/playlist/4gCLbHRhWkfnysimgvQt2I?si=d1c1ea02931f4c48\",\n",
    "    \n",
    "    \"https://open.spotify.com/playlist/3JJHwI8vJHnsD4pF9yiXuu?si=33d43143006e4297\",\n",
    "    \"https://open.spotify.com/playlist/4O3VLOHl79re45b31kY9ZU?si=b47a1037e7974e7b\",\n",
    "    \"https://open.spotify.com/playlist/37i9dQZF1DX4WELsJtFZjZ?si=962bf823005f4580\",\n",
    "    \"https://open.spotify.com/playlist/37i9dQZF1DX0jc7XXxzhOG?si=565c593f126b45c0\",\n",
    "    \"https://open.spotify.com/playlist/37i9dQZF1DWSWNiyXQAvbl?si=c00aff03515140dc\",\n",
    "    \"https://open.spotify.com/playlist/37i9dQZF1DWTAMSh8IEIUc?si=c2cb7a6e35e14cc4\",\n",
    "    # \"https://open.spotify.com/playlist/37i9dQZF1DX4pq3ejIlJu2?si=144c3d2d422f43f8\",\n",
    "    \"https://open.spotify.com/playlist/37i9dQZF1DX6TIU4D13lOY?si=d048a9ccbdcc4747\",\n",
    "    \"https://open.spotify.com/playlist/37i9dQZF1DWUv0cTKdT8jJ?si=2d2e199b092d49b3\",\n",
    "    \"https://open.spotify.com/playlist/3Y3NX4qhBo5rxvU60MgUoh?si=e816f6a8c4df4c83\",\n",
    "    \n",
    "    \"https://open.spotify.com/playlist/2MSE9BQC2U1i3U4NNltxOw?si=64466f39cb684c3c\",\n",
    "    \"https://open.spotify.com/playlist/37i9dQZF1E38ylbYJGEAkm?si=cc0f68506afc4116\",\n",
    "    \"https://open.spotify.com/playlist/37i9dQZF1E383lq5xYKIth?si=8242e7d03daf4547\",\n",
    "    \"https://open.spotify.com/playlist/37i9dQZEVXcRmmxyibpwJm?si=cd6f541813084f7e\",\n",
    "    \"https://open.spotify.com/playlist/37i9dQZF1DXbTxeAdrVG2l?si=1df2e13c9cd54361\",\n",
    "    \"https://open.spotify.com/playlist/37i9dQZF1DWWGFQLoP9qlv?si=23bf49add10248c0\",\n",
    "    \"https://open.spotify.com/playlist/37i9dQZF1DWXJnyndhASBe?si=11a42e297bc04501\",\n",
    "    \"https://open.spotify.com/playlist/37i9dQZF1DWV8xrpik0esU?si=632911154de64647\",\n",
    "    \"https://open.spotify.com/playlist/37i9dQZF1DWZFicI79sEj9?si=6ec64bd0681a4111\",\n",
    "    \"https://open.spotify.com/playlist/37i9dQZF1DX8a1tdzq5tbM?si=b69baeca2bd74ec9\",\n",
    "    \n",
    "    \"https://open.spotify.com/playlist/37i9dQZF1DX0ipbvZRQb5v?si=6632662d48364264\",\n",
    "    \"https://open.spotify.com/playlist/37i9dQZF1DX78DRzijRqqX?si=713472fba6204b25\",\n",
    "    \"https://open.spotify.com/playlist/37i9dQZF1DX504r1DvyvxG?si=dea3171748d54e11\",\n",
    "    \"https://open.spotify.com/playlist/37i9dQZF1DXbcgQ8d7s0A0?si=6b5300e63493440d\",\n",
    "    \"https://open.spotify.com/playlist/4MRN4E2KVBBWZHSf3FKhGI?si=2b830cbec65c4b46\",\n",
    "    \"https://open.spotify.com/playlist/2tigVI3RYawpkcu9AcoBmG?si=5b05404ff5a34b27\"\n",
    "    ]"
   ]
  },
  {
   "cell_type": "markdown",
   "metadata": {},
   "source": [
    "<p></p><p><b>Step 6</b></p>\n",
    "Generating one dataset out of 46 playlists"
   ]
  },
  {
   "cell_type": "code",
   "execution_count": 7,
   "metadata": {},
   "outputs": [],
   "source": [
    "j = 0 \n",
    "print('Number of lists:', len(music_list_Spotify))\n",
    "for i in music_list_Spotify:\n",
    "    j = j + 1\n",
    "    spotify_list_generator(\"AllSpotifySongs.csv\", i)\n",
    "    print(i, '< - Done nr', j)\n",
    "print(\"All done!\")"
   ]
  },
  {
   "cell_type": "markdown",
   "metadata": {},
   "source": [
    "<p></p><p><b>Step 7</b></p>\n",
    "Generate Spotify liked music"
   ]
  },
  {
   "cell_type": "code",
   "execution_count": 19,
   "metadata": {},
   "outputs": [],
   "source": [
    "spotify_list_generator(\"RandomSpotifyList_Liked.csv\", \"https://open.spotify.com/playlist/7uVlrg50RdpptDVVXJc5WK?si=3f4bd3672d04448a\")"
   ]
  },
  {
   "cell_type": "markdown",
   "metadata": {},
   "source": [
    "<p></p><p><b>Step 8</b></p>\n",
    "Generate Spotify unliked music"
   ]
  },
  {
   "cell_type": "code",
   "execution_count": 20,
   "metadata": {},
   "outputs": [],
   "source": [
    "spotify_list_generator(\"RandomSpotifyList_Unliked.csv\", \"https://open.spotify.com/playlist/4CHHCyretx0AaOb5xMkmRq?si=42b36bd28b9344e8\")"
   ]
  },
  {
   "cell_type": "markdown",
   "metadata": {},
   "source": [
    "<p></p><p><b>Step 9</b></p>\n",
    "Run \"music_learning.ipynb\" file"
   ]
  }
 ],
 "metadata": {
  "kernelspec": {
   "display_name": "Python 3",
   "language": "python",
   "name": "python3"
  },
  "language_info": {
   "codemirror_mode": {
    "name": "ipython",
    "version": 3
   },
   "file_extension": ".py",
   "mimetype": "text/x-python",
   "name": "python",
   "nbconvert_exporter": "python",
   "pygments_lexer": "ipython3",
   "version": "3.11.3"
  }
 },
 "nbformat": 4,
 "nbformat_minor": 4
}
